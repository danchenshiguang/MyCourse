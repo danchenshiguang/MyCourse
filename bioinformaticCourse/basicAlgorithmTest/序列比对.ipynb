{
 "cells": [
  {
   "cell_type": "code",
   "execution_count": null,
   "metadata": {
    "collapsed": true
   },
   "outputs": [],
   "source": [
    "import Bio"
   ]
  },
  {
   "cell_type": "code",
   "execution_count": 1,
   "metadata": {
    "collapsed": false,
    "pycharm": {
     "name": "#%%\n"
    }
   },
   "outputs": [],
   "source": [
    "def needleman_wunsch(seq1, seq2, match_score=1, mismatch_score=-1, gap_penalty=-1):\n",
    "    m, n = len(seq1), len(seq2)\n",
    "    score_matrix = [[0 for j in range(n + 1)] for i in range(m + 1)]\n",
    "    direction_matrix = [[0 for j in range(n + 1)] for i in range(m + 1)]\n",
    "\n",
    "    for i in range(1, m + 1):\n",
    "        score_matrix[i][0] = i * gap_penalty\n",
    "        direction_matrix[i][0] = 1\n",
    "\n",
    "    for j in range(1, n + 1):\n",
    "        score_matrix[0][j] = j * gap_penalty\n",
    "        direction_matrix[0][j] = 2\n",
    "\n",
    "    for i in range(1, m + 1):\n",
    "        for j in range(1, n + 1):\n",
    "            match = score_matrix[i - 1][j - 1] + (match_score if seq1[i - 1] == seq2[j - 1] else mismatch_score)\n",
    "            delete = score_matrix[i - 1][j] + gap_penalty\n",
    "            insert = score_matrix[i][j - 1] + gap_penalty\n",
    "            score_matrix[i][j] = max(match, delete, insert)\n",
    "\n",
    "            if score_matrix[i][j] == match:\n",
    "                direction_matrix[i][j] = 3\n",
    "            elif score_matrix[i][j] == delete:\n",
    "                direction_matrix[i][j] = 1\n",
    "            else:\n",
    "                direction_matrix[i][j] = 2\n",
    "\n",
    "    align1, align2 = '', ''\n",
    "    i, j = m, n\n",
    "\n",
    "    while i > 0 or j > 0:\n",
    "        if direction_matrix[i][j] == 3:\n",
    "            align1 = seq1[i - 1] + align1\n",
    "            align2 = seq2[j - 1] + align2\n",
    "            i -= 1\n",
    "            j -= 1\n",
    "        elif direction_matrix[i][j] == 1:\n",
    "            align1 = seq1[i - 1] + align1\n",
    "            align2 = '-' + align2\n",
    "            i -= 1\n",
    "        else:\n",
    "            align1 = '-' + align1\n",
    "            align2 = seq2[j - 1] + align2\n",
    "            j -= 1\n",
    "\n",
    "    return align1, align2, score_matrix[m][n]"
   ]
  },
  {
   "cell_type": "code",
   "execution_count": 2,
   "metadata": {
    "collapsed": false,
    "pycharm": {
     "name": "#%%\n"
    }
   },
   "outputs": [
    {
     "name": "stdout",
     "output_type": "stream",
     "text": [
      "AGTCTTC-G- AG--TTCGGT\n"
     ]
    }
   ],
   "source": [
    "result = needleman_wunsch('AGTCTTCG','AGTTCGGT')\n",
    "print(result[0],result[1])"
   ]
  },
  {
   "cell_type": "code",
   "execution_count": null,
   "metadata": {
    "collapsed": false,
    "pycharm": {
     "name": "#%%\n"
    }
   },
   "outputs": [],
   "source": []
  }
 ],
 "metadata": {
  "kernelspec": {
   "display_name": "Python 3",
   "language": "python",
   "name": "python3"
  },
  "language_info": {
   "codemirror_mode": {
    "name": "ipython",
    "version": 2
   },
   "file_extension": ".py",
   "mimetype": "text/x-python",
   "name": "python",
   "nbconvert_exporter": "python",
   "pygments_lexer": "ipython2",
   "version": "2.7.6"
  }
 },
 "nbformat": 4,
 "nbformat_minor": 0
}
