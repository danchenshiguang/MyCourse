{
 "cells": [
  {
   "cell_type": "markdown",
   "metadata": {},
   "source": [
    "# 数据表达与特征工程\n",
    "## 数据表达\n",
    "### 使用亚变量转化类型特征"
   ]
  },
  {
   "cell_type": "code",
   "execution_count": 1,
   "metadata": {},
   "outputs": [
    {
     "data": {
      "text/html": [
       "<div>\n",
       "<style scoped>\n",
       "    .dataframe tbody tr th:only-of-type {\n",
       "        vertical-align: middle;\n",
       "    }\n",
       "\n",
       "    .dataframe tbody tr th {\n",
       "        vertical-align: top;\n",
       "    }\n",
       "\n",
       "    .dataframe thead th {\n",
       "        text-align: right;\n",
       "    }\n",
       "</style>\n",
       "<table border=\"1\" class=\"dataframe\">\n",
       "  <thead>\n",
       "    <tr style=\"text-align: right;\">\n",
       "      <th></th>\n",
       "      <th>数值特征</th>\n",
       "      <th>类型特征</th>\n",
       "    </tr>\n",
       "  </thead>\n",
       "  <tbody>\n",
       "    <tr>\n",
       "      <th>0</th>\n",
       "      <td>5</td>\n",
       "      <td>西瓜</td>\n",
       "    </tr>\n",
       "    <tr>\n",
       "      <th>1</th>\n",
       "      <td>6</td>\n",
       "      <td>香蕉</td>\n",
       "    </tr>\n",
       "    <tr>\n",
       "      <th>2</th>\n",
       "      <td>7</td>\n",
       "      <td>桔子</td>\n",
       "    </tr>\n",
       "    <tr>\n",
       "      <th>3</th>\n",
       "      <td>8</td>\n",
       "      <td>苹果</td>\n",
       "    </tr>\n",
       "    <tr>\n",
       "      <th>4</th>\n",
       "      <td>9</td>\n",
       "      <td>葡萄</td>\n",
       "    </tr>\n",
       "  </tbody>\n",
       "</table>\n",
       "</div>"
      ],
      "text/plain": [
       "   数值特征 类型特征\n",
       "0     5   西瓜\n",
       "1     6   香蕉\n",
       "2     7   桔子\n",
       "3     8   苹果\n",
       "4     9   葡萄"
      ]
     },
     "metadata": {},
     "output_type": "display_data"
    }
   ],
   "source": [
    "import pandas as pd\n",
    "fruits = pd.DataFrame({'数值特征':[5,6,7,8,9],\n",
    "                   '类型特征':['西瓜','香蕉','桔子','苹果','葡萄']})\n",
    "display(fruits)"
   ]
  },
  {
   "cell_type": "code",
   "execution_count": 2,
   "metadata": {},
   "outputs": [
    {
     "data": {
      "text/html": [
       "<div>\n",
       "<style scoped>\n",
       "    .dataframe tbody tr th:only-of-type {\n",
       "        vertical-align: middle;\n",
       "    }\n",
       "\n",
       "    .dataframe tbody tr th {\n",
       "        vertical-align: top;\n",
       "    }\n",
       "\n",
       "    .dataframe thead th {\n",
       "        text-align: right;\n",
       "    }\n",
       "</style>\n",
       "<table border=\"1\" class=\"dataframe\">\n",
       "  <thead>\n",
       "    <tr style=\"text-align: right;\">\n",
       "      <th></th>\n",
       "      <th>数值特征</th>\n",
       "      <th>类型特征_桔子</th>\n",
       "      <th>类型特征_苹果</th>\n",
       "      <th>类型特征_葡萄</th>\n",
       "      <th>类型特征_西瓜</th>\n",
       "      <th>类型特征_香蕉</th>\n",
       "    </tr>\n",
       "  </thead>\n",
       "  <tbody>\n",
       "    <tr>\n",
       "      <th>0</th>\n",
       "      <td>5</td>\n",
       "      <td>0</td>\n",
       "      <td>0</td>\n",
       "      <td>0</td>\n",
       "      <td>1</td>\n",
       "      <td>0</td>\n",
       "    </tr>\n",
       "    <tr>\n",
       "      <th>1</th>\n",
       "      <td>6</td>\n",
       "      <td>0</td>\n",
       "      <td>0</td>\n",
       "      <td>0</td>\n",
       "      <td>0</td>\n",
       "      <td>1</td>\n",
       "    </tr>\n",
       "    <tr>\n",
       "      <th>2</th>\n",
       "      <td>7</td>\n",
       "      <td>1</td>\n",
       "      <td>0</td>\n",
       "      <td>0</td>\n",
       "      <td>0</td>\n",
       "      <td>0</td>\n",
       "    </tr>\n",
       "    <tr>\n",
       "      <th>3</th>\n",
       "      <td>8</td>\n",
       "      <td>0</td>\n",
       "      <td>1</td>\n",
       "      <td>0</td>\n",
       "      <td>0</td>\n",
       "      <td>0</td>\n",
       "    </tr>\n",
       "    <tr>\n",
       "      <th>4</th>\n",
       "      <td>9</td>\n",
       "      <td>0</td>\n",
       "      <td>0</td>\n",
       "      <td>1</td>\n",
       "      <td>0</td>\n",
       "      <td>0</td>\n",
       "    </tr>\n",
       "  </tbody>\n",
       "</table>\n",
       "</div>"
      ],
      "text/plain": [
       "   数值特征  类型特征_桔子  类型特征_苹果  类型特征_葡萄  类型特征_西瓜  类型特征_香蕉\n",
       "0     5        0        0        0        1        0\n",
       "1     6        0        0        0        0        1\n",
       "2     7        1        0        0        0        0\n",
       "3     8        0        1        0        0        0\n",
       "4     9        0        0        1        0        0"
      ]
     },
     "metadata": {},
     "output_type": "display_data"
    }
   ],
   "source": [
    "fruits_dum = pd.get_dummies(fruits)\n",
    "display(fruits_dum)"
   ]
  },
  {
   "cell_type": "code",
   "execution_count": 3,
   "metadata": {},
   "outputs": [
    {
     "data": {
      "text/html": [
       "<div>\n",
       "<style scoped>\n",
       "    .dataframe tbody tr th:only-of-type {\n",
       "        vertical-align: middle;\n",
       "    }\n",
       "\n",
       "    .dataframe tbody tr th {\n",
       "        vertical-align: top;\n",
       "    }\n",
       "\n",
       "    .dataframe thead th {\n",
       "        text-align: right;\n",
       "    }\n",
       "</style>\n",
       "<table border=\"1\" class=\"dataframe\">\n",
       "  <thead>\n",
       "    <tr style=\"text-align: right;\">\n",
       "      <th></th>\n",
       "      <th>类型特征</th>\n",
       "      <th>数值特征_5</th>\n",
       "      <th>数值特征_6</th>\n",
       "      <th>数值特征_7</th>\n",
       "      <th>数值特征_8</th>\n",
       "      <th>数值特征_9</th>\n",
       "    </tr>\n",
       "  </thead>\n",
       "  <tbody>\n",
       "    <tr>\n",
       "      <th>0</th>\n",
       "      <td>西瓜</td>\n",
       "      <td>1</td>\n",
       "      <td>0</td>\n",
       "      <td>0</td>\n",
       "      <td>0</td>\n",
       "      <td>0</td>\n",
       "    </tr>\n",
       "    <tr>\n",
       "      <th>1</th>\n",
       "      <td>香蕉</td>\n",
       "      <td>0</td>\n",
       "      <td>1</td>\n",
       "      <td>0</td>\n",
       "      <td>0</td>\n",
       "      <td>0</td>\n",
       "    </tr>\n",
       "    <tr>\n",
       "      <th>2</th>\n",
       "      <td>桔子</td>\n",
       "      <td>0</td>\n",
       "      <td>0</td>\n",
       "      <td>1</td>\n",
       "      <td>0</td>\n",
       "      <td>0</td>\n",
       "    </tr>\n",
       "    <tr>\n",
       "      <th>3</th>\n",
       "      <td>苹果</td>\n",
       "      <td>0</td>\n",
       "      <td>0</td>\n",
       "      <td>0</td>\n",
       "      <td>1</td>\n",
       "      <td>0</td>\n",
       "    </tr>\n",
       "    <tr>\n",
       "      <th>4</th>\n",
       "      <td>葡萄</td>\n",
       "      <td>0</td>\n",
       "      <td>0</td>\n",
       "      <td>0</td>\n",
       "      <td>0</td>\n",
       "      <td>1</td>\n",
       "    </tr>\n",
       "  </tbody>\n",
       "</table>\n",
       "</div>"
      ],
      "text/plain": [
       "  类型特征  数值特征_5  数值特征_6  数值特征_7  数值特征_8  数值特征_9\n",
       "0   西瓜       1       0       0       0       0\n",
       "1   香蕉       0       1       0       0       0\n",
       "2   桔子       0       0       1       0       0\n",
       "3   苹果       0       0       0       1       0\n",
       "4   葡萄       0       0       0       0       1"
      ]
     },
     "execution_count": 3,
     "metadata": {},
     "output_type": "execute_result"
    }
   ],
   "source": [
    "# 使用astype更加安全\n",
    "fruits['数值特征'] = fruits['数值特征'].astype(str)\n",
    "pd.get_dummies(fruits, columns=['数值特征'])"
   ]
  },
  {
   "cell_type": "markdown",
   "metadata": {},
   "source": [
    "### 对数据进行装箱处理\n",
    "不同算法建立的模型差别很大，例如KNN和MLP，让我们感受一下:"
   ]
  },
  {
   "cell_type": "code",
   "execution_count": 7,
   "metadata": {},
   "outputs": [
    {
     "data": {
      "image/png": "[encoded data removed]",
      "text/plain": [
       "<Figure size 432x288 with 1 Axes>"
      ]
     },
     "metadata": {
      "needs_background": "light"
     },
     "output_type": "display_data"
    }
   ],
   "source": [
    "%matplotlib inline\n",
    "import numpy as np\n",
    "import matplotlib.pyplot as plt\n",
    "# 生成随机数列\n",
    "rnd = np.random.RandomState(38)\n",
    "x = rnd.uniform(-5,5,size=50)\n",
    "# 添加噪声\n",
    "y_no_noise = (np.cos(6*x)+x)\n",
    "X = x.reshape(-1,1)\n",
    "y = (y_no_noise + rnd.normal(size=len(x)))/2\n",
    "# 绘图\n",
    "plt.plot(X,y,'o',c='r')\n",
    "plt.show()"
   ]
  },
  {
   "cell_type": "code",
   "execution_count": 8,
   "metadata": {},
   "outputs": [
    {
     "data": {
      "image/png": "[encoded data removed]",
      "text/plain": [
       "<Figure size 432x288 with 1 Axes>"
      ]
     },
     "metadata": {
      "needs_background": "light"
     },
     "output_type": "display_data"
    }
   ],
   "source": [
    "# 导入MLP\n",
    "from sklearn.neural_network import MLPRegressor\n",
    "# 导入KNN\n",
    "from sklearn.neighbors import KNeighborsRegressor\n",
    "# 生成等差数列\n",
    "line = np.linspace(-5,5,1000,endpoint=False).reshape(-1,1)\n",
    "# 分别拟合\n",
    "mlpr = MLPRegressor().fit(X,y)\n",
    "knr = KNeighborsRegressor().fit(X,y)\n",
    "#绘图\n",
    "plt.plot(line, mlpr.predict(line),label='MLP')\n",
    "plt.plot(line, knr.predict(line),label='KNN')\n",
    "plt.plot(X,y,'o',c='r')\n",
    "plt.legend(loc='best')\n",
    "plt.show()"
   ]
  },
  {
   "cell_type": "markdown",
   "metadata": {},
   "source": [
    "那么我们应当用那种算法的预测结果呢？让我们先对数据进行装箱处理(binning)，也称为离散化处理(discretization)。"
   ]
  },
  {
   "cell_type": "code",
   "execution_count": 12,
   "metadata": {},
   "outputs": [
    {
     "name": "stdout",
     "output_type": "stream",
     "text": [
      "装箱数据范围：\n",
      "[-5. -4. -3. -2. -1.  0.  1.  2.  3.  4.  5.]\n",
      "\n",
      "前十个数据点的特征值：\n",
      "[[-1.1522688 ]\n",
      " [ 3.59707847]\n",
      " [ 4.44199636]\n",
      " [ 2.02824894]\n",
      " [ 1.33634097]\n",
      " [ 1.05961282]\n",
      " [-2.99873157]\n",
      " [-1.12612112]\n",
      " [-2.41016836]\n",
      " [-4.25392719]]\n",
      "\n",
      "前十个数据点所在的箱子：\n",
      "[[ 4]\n",
      " [ 9]\n",
      " [10]\n",
      " [ 8]\n",
      " [ 7]\n",
      " [ 7]\n",
      " [ 3]\n",
      " [ 4]\n",
      " [ 3]\n",
      " [ 1]]\n"
     ]
    }
   ],
   "source": [
    "my_bins = np.linspace(-5,5,11)\n",
    "target_bin = np.digitize(X, bins=my_bins)\n",
    "print('装箱数据范围：\\n{}'.format(my_bins))\n",
    "print('\\n前十个数据点的特征值：\\n{}'.format(X[:10]))\n",
    "print('\\n前十个数据点所在的箱子：\\n{}'.format(target_bin[:10]))"
   ]
  },
  {
   "cell_type": "code",
   "execution_count": 13,
   "metadata": {},
   "outputs": [
    {
     "name": "stdout",
     "output_type": "stream",
     "text": [
      "装箱前的数据形态：(50, 1)\n",
      "装箱后的数据形态：(50, 10)\n",
      "\n",
      "装箱后的前十个数据点：\n",
      "[[0. 0. 0. 1. 0. 0. 0. 0. 0. 0.]\n",
      " [0. 0. 0. 0. 0. 0. 0. 0. 1. 0.]\n",
      " [0. 0. 0. 0. 0. 0. 0. 0. 0. 1.]\n",
      " [0. 0. 0. 0. 0. 0. 0. 1. 0. 0.]\n",
      " [0. 0. 0. 0. 0. 0. 1. 0. 0. 0.]\n",
      " [0. 0. 0. 0. 0. 0. 1. 0. 0. 0.]\n",
      " [0. 0. 1. 0. 0. 0. 0. 0. 0. 0.]\n",
      " [0. 0. 0. 1. 0. 0. 0. 0. 0. 0.]\n",
      " [0. 0. 1. 0. 0. 0. 0. 0. 0. 0.]\n",
      " [1. 0. 0. 0. 0. 0. 0. 0. 0. 0.]]\n"
     ]
    }
   ],
   "source": [
    "from sklearn.preprocessing import OneHotEncoder\n",
    "# OneHotEncoder类似于pandas的get_dummies，但只支持整数型\n",
    "onehot = OneHotEncoder(sparse = False)\n",
    "onehot.fit(target_bin)\n",
    "X_in_bin = onehot.transform(target_bin)\n",
    "print('装箱前的数据形态：{}'.format(target_bin.shape))\n",
    "print('装箱后的数据形态：{}'.format(X_in_bin.shape))\n",
    "print('\\n装箱后的前十个数据点：\\n{}'.format(X_in_bin[:10]))"
   ]
  },
  {
   "cell_type": "markdown",
   "metadata": {},
   "source": [
    "**结果分析**: 样本数量没变，但是特征数量变成了10个，因为有10个箱子。这样相当于把连续特征转化成了类别特征。现在再来看看MLP和KNN发生了什么变化:"
   ]
  },
  {
   "cell_type": "code",
   "execution_count": 14,
   "metadata": {},
   "outputs": [
    {
     "data": {
      "image/png": "[encoded data removed]",
      "text/plain": [
       "<Figure size 432x288 with 1 Axes>"
      ]
     },
     "metadata": {
      "needs_background": "light"
     },
     "output_type": "display_data"
    }
   ],
   "source": [
    "new_line = onehot.transform(np.digitize(line,bins=my_bins))\n",
    "\n",
    "new_mlpr = MLPRegressor().fit(X_in_bin, y)\n",
    "new_knr = KNeighborsRegressor().fit(X_in_bin,y)\n",
    "\n",
    "plt.plot(line, new_mlpr.predict(new_line),label='New MLP')\n",
    "plt.plot(line, new_knr.predict(new_line),label='New KNN')\n",
    "\n",
    "plt.plot(X,y,'o',c='r')\n",
    "plt.legend(loc='best')\n",
    "plt.show()"
   ]
  },
  {
   "cell_type": "markdown",
   "metadata": {},
   "source": [
    "模型变得更为相似。装箱可以纠正模型的过拟合或者欠拟合问题，尤其是针对大规模高维度数据集使用线性模型的时候，可以大幅提高线性模型的预测准确率。  \n",
    "**注意**: 装箱操作对于基于决策树的算法没有太多作用，因为这类算法本身就在不停的拆分样本特征数据，所以不需要装箱操作。"
   ]
  },
  {
   "cell_type": "markdown",
   "metadata": {},
   "source": [
    "## 数据“升维”\n",
    "如果数据集特征不足，则需要进行扩充，常用的方法包括添加交互式特征(interaction features)和多项式特征(polynomial features)\n",
    "### 向数据集添加交互式特征\n"
   ]
  },
  {
   "cell_type": "code",
   "execution_count": 19,
   "metadata": {},
   "outputs": [
    {
     "name": "stdout",
     "output_type": "stream",
     "text": [
      "将数组2添加到数据1中后得到:[1 2 3 4 5 6 7 8 9 0]\n"
     ]
    }
   ],
   "source": [
    "array_1 = [1,2,3,4,5]\n",
    "array_2 = [6,7,8,9,0]\n",
    "array_3 = np.hstack((array_1, array_2))\n",
    "print('将数组2添加到数据1中后得到:{}'.format(array_3))\n",
    "# 如果array_1和array_2代表两个数据点的特征，那么array_3就是它们的交互特征。"
   ]
  },
  {
   "cell_type": "code",
   "execution_count": 20,
   "metadata": {},
   "outputs": [
    {
     "data": {
      "text/plain": [
       "(50, 11)"
      ]
     },
     "execution_count": 20,
     "metadata": {},
     "output_type": "execute_result"
    }
   ],
   "source": [
    "# 原始数据和装箱数据进行堆叠\n",
    "X_stack = np.hstack([X, X_in_bin])\n",
    "X_stack.shape"
   ]
  },
  {
   "cell_type": "code",
   "execution_count": 21,
   "metadata": {},
   "outputs": [
    {
     "data": {
      "image/png": "[encoded data removed]",
      "text/plain": [
       "<Figure size 432x288 with 1 Axes>"
      ]
     },
     "metadata": {
      "needs_background": "light"
     },
     "output_type": "display_data"
    }
   ],
   "source": [
    "# 堆叠后的数据训练模型\n",
    "line_stack = np.hstack([line, new_line])\n",
    "mlpr_interact = MLPRegressor().fit(X_stack, y)\n",
    "plt.plot(line, mlpr_interact.predict(line_stack), \n",
    "         label='MLP for interaction')\n",
    "plt.ylim(-4,4)\n",
    "for vline in my_bins:\n",
    "    plt.plot([vline,vline],[-5,5],':',c='k')\n",
    "plt.legend(loc='lower right')\n",
    "plt.plot(X, y,'o',c='r')\n",
    "plt.show()\n",
    "# 每个箱体的斜率相同，这不是我们想要的"
   ]
  },
  {
   "cell_type": "code",
   "execution_count": 22,
   "metadata": {},
   "outputs": [
    {
     "name": "stdout",
     "output_type": "stream",
     "text": [
      "(50, 20)\n",
      "[ 0.         0.         0.         1.         0.         0.\n",
      "  0.         0.         0.         0.        -0.        -0.\n",
      " -0.        -1.1522688 -0.        -0.        -0.        -0.\n",
      " -0.        -0.       ]\n"
     ]
    }
   ],
   "source": [
    "X_multi = np.hstack([X_in_bin, X*X_in_bin])\n",
    "print(X_multi.shape)\n",
    "print(X_multi[0])"
   ]
  },
  {
   "cell_type": "code",
   "execution_count": 23,
   "metadata": {},
   "outputs": [
    {
     "data": {
      "image/png": "[encoded data removed]",
      "text/plain": [
       "<Figure size 432x288 with 1 Axes>"
      ]
     },
     "metadata": {
      "needs_background": "light"
     },
     "output_type": "display_data"
    }
   ],
   "source": [
    "mlpr_multi = MLPRegressor().fit(X_multi, y)\n",
    "line_multi = np.hstack([new_line, line * new_line])\n",
    "plt.plot(line, mlpr_multi.predict(line_multi), label = 'MLP Regressor')\n",
    "for vline in my_bins:\n",
    "    plt.plot([vline,vline],[-5,5],':',c='gray')\n",
    "plt.plot(X, y, 'o', c='r')\n",
    "plt.legend(loc='lower right')\n",
    "plt.show()\n",
    "# 模型更为复杂，可以让欠拟合的模型有更好的表现"
   ]
  },
  {
   "cell_type": "markdown",
   "metadata": {},
   "source": [
    "### 向数据集添加多项式特征\n",
    "多项式:  \n",
    "$$ax^4+bx^3+cx^2+dx+e$$"
   ]
  },
  {
   "cell_type": "code",
   "execution_count": 24,
   "metadata": {},
   "outputs": [
    {
     "name": "stdout",
     "output_type": "stream",
     "text": [
      "(50, 5)\n"
     ]
    }
   ],
   "source": [
    "from sklearn.preprocessing import PolynomialFeatures\n",
    "# 添加多项式特征\n",
    "poly = PolynomialFeatures(degree=5, include_bias = False)\n",
    "X_poly = poly.fit_transform(X)\n",
    "print (X_poly.shape)"
   ]
  },
  {
   "cell_type": "code",
   "execution_count": 25,
   "metadata": {},
   "outputs": [
    {
     "name": "stdout",
     "output_type": "stream",
     "text": [
      "原始数据集中的第一个样本特征：\n",
      "[-1.1522688]\n",
      "\n",
      "处理后的数据集中第一个样本特征：\n",
      "[-1.1522688   1.3277234  -1.52989425  1.76284942 -2.0312764 ]\n"
     ]
    }
   ],
   "source": [
    "print('原始数据集中的第一个样本特征：\\n{}'.format(X[0]))\n",
    "print('\\n处理后的数据集中第一个样本特征：\\n{}'.format(X_poly[0]))"
   ]
  },
  {
   "cell_type": "code",
   "execution_count": 26,
   "metadata": {},
   "outputs": [
    {
     "name": "stdout",
     "output_type": "stream",
     "text": [
      "PolynomialFeatures对原始数据的处理:\n",
      "['x0' 'x0^2' 'x0^3' 'x0^4' 'x0^5']\n"
     ]
    }
   ],
   "source": [
    "print ('PolynomialFeatures对原始数据的处理:\\n{}'.format(\n",
    "    poly.get_feature_names_out()))"
   ]
  },
  {
   "cell_type": "code",
   "execution_count": 27,
   "metadata": {},
   "outputs": [
    {
     "data": {
      "image/png": "[encoded data removed]",
      "text/plain": [
       "<Figure size 432x288 with 1 Axes>"
      ]
     },
     "metadata": {
      "needs_background": "light"
     },
     "output_type": "display_data"
    }
   ],
   "source": [
    "from sklearn.linear_model import LinearRegression\n",
    "\n",
    "LNR_poly = LinearRegression().fit(X_poly, y)\n",
    "line_poly = poly.transform(line)\n",
    "\n",
    "plt.plot(line,LNR_poly.predict(line_poly), label='Linear Regressor')\n",
    "plt.xlim(np.min(X)-0.5,np.max(X)+0.5)\n",
    "plt.ylim(np.min(y)-0.5,np.max(y)+0.5)\n",
    "plt.plot(X,y,'o',c='r')\n",
    "plt.legend(loc='lower right')\n",
    "plt.show()"
   ]
  },
  {
   "cell_type": "markdown",
   "metadata": {},
   "source": [
    "## 自动特征选择\n",
    "### 使用单一变量法进行特征选择"
   ]
  },
  {
   "cell_type": "code",
   "execution_count": 28,
   "metadata": {},
   "outputs": [
    {
     "data": {
      "text/html": [
       "<div>\n",
       "<style scoped>\n",
       "    .dataframe tbody tr th:only-of-type {\n",
       "        vertical-align: middle;\n",
       "    }\n",
       "\n",
       "    .dataframe tbody tr th {\n",
       "        vertical-align: top;\n",
       "    }\n",
       "\n",
       "    .dataframe thead th {\n",
       "        text-align: right;\n",
       "    }\n",
       "</style>\n",
       "<table border=\"1\" class=\"dataframe\">\n",
       "  <thead>\n",
       "    <tr style=\"text-align: right;\">\n",
       "      <th></th>\n",
       "      <th>代码</th>\n",
       "      <th>名称</th>\n",
       "      <th>涨幅%</th>\n",
       "      <th>现价</th>\n",
       "      <th>涨跌</th>\n",
       "      <th>买价</th>\n",
       "      <th>总量</th>\n",
       "      <th>现量</th>\n",
       "      <th>涨速%</th>\n",
       "      <th>换手%</th>\n",
       "      <th>...</th>\n",
       "      <th>每股净资</th>\n",
       "      <th>调整后净资</th>\n",
       "      <th>每股公积</th>\n",
       "      <th>每股未分配</th>\n",
       "      <th>每股现金流</th>\n",
       "      <th>权益比%</th>\n",
       "      <th>营业利润率%</th>\n",
       "      <th>净利润率%</th>\n",
       "      <th>研发费用(亿)</th>\n",
       "      <th>员工人数</th>\n",
       "    </tr>\n",
       "  </thead>\n",
       "  <tbody>\n",
       "    <tr>\n",
       "      <th>0</th>\n",
       "      <td>1</td>\n",
       "      <td>平安银行</td>\n",
       "      <td>0.67</td>\n",
       "      <td>16.45</td>\n",
       "      <td>0.11</td>\n",
       "      <td>16.44</td>\n",
       "      <td>557918</td>\n",
       "      <td>6364</td>\n",
       "      <td>0.24</td>\n",
       "      <td>0.29</td>\n",
       "      <td>...</td>\n",
       "      <td>13.82</td>\n",
       "      <td>13.82</td>\n",
       "      <td>4.16</td>\n",
       "      <td>5.94</td>\n",
       "      <td>4.35</td>\n",
       "      <td>7.77</td>\n",
       "      <td>29.83</td>\n",
       "      <td>22.94</td>\n",
       "      <td>0.00</td>\n",
       "      <td>33529</td>\n",
       "    </tr>\n",
       "    <tr>\n",
       "      <th>1</th>\n",
       "      <td>2</td>\n",
       "      <td>万 科Ａ</td>\n",
       "      <td>-0.26</td>\n",
       "      <td>26.42</td>\n",
       "      <td>-0.07</td>\n",
       "      <td>26.41</td>\n",
       "      <td>368124</td>\n",
       "      <td>1537</td>\n",
       "      <td>0.08</td>\n",
       "      <td>0.38</td>\n",
       "      <td>...</td>\n",
       "      <td>14.80</td>\n",
       "      <td>0.00</td>\n",
       "      <td>1.06</td>\n",
       "      <td>8.68</td>\n",
       "      <td>0.15</td>\n",
       "      <td>10.21</td>\n",
       "      <td>18.74</td>\n",
       "      <td>8.15</td>\n",
       "      <td>5.37</td>\n",
       "      <td>104300</td>\n",
       "    </tr>\n",
       "    <tr>\n",
       "      <th>2</th>\n",
       "      <td>4</td>\n",
       "      <td>国农科技</td>\n",
       "      <td>-0.49</td>\n",
       "      <td>18.35</td>\n",
       "      <td>-0.09</td>\n",
       "      <td>18.35</td>\n",
       "      <td>4882</td>\n",
       "      <td>98</td>\n",
       "      <td>0.00</td>\n",
       "      <td>0.59</td>\n",
       "      <td>...</td>\n",
       "      <td>1.18</td>\n",
       "      <td>0.00</td>\n",
       "      <td>0.01</td>\n",
       "      <td>0.04</td>\n",
       "      <td>-0.12</td>\n",
       "      <td>76.39</td>\n",
       "      <td>-4.30</td>\n",
       "      <td>-9.19</td>\n",
       "      <td>0.03</td>\n",
       "      <td>210</td>\n",
       "    </tr>\n",
       "    <tr>\n",
       "      <th>3</th>\n",
       "      <td>5</td>\n",
       "      <td>世纪星源</td>\n",
       "      <td>1.04</td>\n",
       "      <td>2.91</td>\n",
       "      <td>0.03</td>\n",
       "      <td>2.91</td>\n",
       "      <td>37922</td>\n",
       "      <td>780</td>\n",
       "      <td>0.00</td>\n",
       "      <td>0.36</td>\n",
       "      <td>...</td>\n",
       "      <td>1.45</td>\n",
       "      <td>0.00</td>\n",
       "      <td>0.65</td>\n",
       "      <td>-0.24</td>\n",
       "      <td>0.12</td>\n",
       "      <td>50.15</td>\n",
       "      <td>12.15</td>\n",
       "      <td>7.82</td>\n",
       "      <td>0.17</td>\n",
       "      <td>745</td>\n",
       "    </tr>\n",
       "    <tr>\n",
       "      <th>4</th>\n",
       "      <td>6</td>\n",
       "      <td>深振业Ａ</td>\n",
       "      <td>0.40</td>\n",
       "      <td>5.08</td>\n",
       "      <td>0.02</td>\n",
       "      <td>5.08</td>\n",
       "      <td>40357</td>\n",
       "      <td>164</td>\n",
       "      <td>0.20</td>\n",
       "      <td>0.30</td>\n",
       "      <td>...</td>\n",
       "      <td>4.73</td>\n",
       "      <td>0.00</td>\n",
       "      <td>0.36</td>\n",
       "      <td>2.27</td>\n",
       "      <td>0.35</td>\n",
       "      <td>41.23</td>\n",
       "      <td>30.41</td>\n",
       "      <td>23.01</td>\n",
       "      <td>0.00</td>\n",
       "      <td>377</td>\n",
       "    </tr>\n",
       "  </tbody>\n",
       "</table>\n",
       "<p>5 rows × 87 columns</p>\n",
       "</div>"
      ],
      "text/plain": [
       "   代码    名称   涨幅%     现价    涨跌     买价      总量    现量   涨速%   换手%  ...   每股净资  \\\n",
       "0   1  平安银行  0.67  16.45  0.11  16.44  557918  6364  0.24  0.29  ...  13.82   \n",
       "1   2  万 科Ａ -0.26  26.42 -0.07  26.41  368124  1537  0.08  0.38  ...  14.80   \n",
       "2   4  国农科技 -0.49  18.35 -0.09  18.35    4882    98  0.00  0.59  ...   1.18   \n",
       "3   5  世纪星源  1.04   2.91  0.03   2.91   37922   780  0.00  0.36  ...   1.45   \n",
       "4   6  深振业Ａ  0.40   5.08  0.02   5.08   40357   164  0.20  0.30  ...   4.73   \n",
       "\n",
       "   调整后净资  每股公积  每股未分配  每股现金流   权益比%  营业利润率%  净利润率%  研发费用(亿)    员工人数  \n",
       "0  13.82  4.16   5.94   4.35   7.77   29.83  22.94     0.00   33529  \n",
       "1   0.00  1.06   8.68   0.15  10.21   18.74   8.15     5.37  104300  \n",
       "2   0.00  0.01   0.04  -0.12  76.39   -4.30  -9.19     0.03     210  \n",
       "3   0.00  0.65  -0.24   0.12  50.15   12.15   7.82     0.17     745  \n",
       "4   0.00  0.36   2.27   0.35  41.23   30.41  23.01     0.00     377  \n",
       "\n",
       "[5 rows x 87 columns]"
      ]
     },
     "metadata": {},
     "output_type": "display_data"
    }
   ],
   "source": [
    "import pandas as pd\n",
    "stock = pd.read_csv('2019.csv',encoding='GBK')\n",
    "display(stock.head()) "
   ]
  },
  {
   "cell_type": "code",
   "execution_count": 29,
   "metadata": {},
   "outputs": [
    {
     "name": "stdout",
     "output_type": "stream",
     "text": [
      "(3699,)\n",
      "0.67\n"
     ]
    }
   ],
   "source": [
    "y = stock['涨幅%']\n",
    "print(y.shape)\n",
    "print(y[0])"
   ]
  },
  {
   "cell_type": "code",
   "execution_count": 32,
   "metadata": {},
   "outputs": [
    {
     "name": "stdout",
     "output_type": "stream",
     "text": [
      "(3699, 22)\n",
      "[[1.64500e+01 1.10000e-01 1.64400e+01 5.57918e+05 6.36400e+03 2.40000e-01\n",
      "  2.90000e-01 1.63500e+01 1.65500e+01 1.62300e+01 1.63400e+01 8.80000e-01\n",
      "  1.96000e+00 1.64200e+01 2.81412e+05 2.76506e+05 1.02000e+00 1.31100e+03\n",
      "  1.11700e+03 4.34960e+06 0.00000e+00 1.94060e+02]]\n"
     ]
    }
   ],
   "source": [
    "features = stock.loc[:,'现价':'流通股(亿)']\n",
    "X = features.values\n",
    "print(X.shape)\n",
    "print(X[:1])"
   ]
  },
  {
   "cell_type": "code",
   "execution_count": 33,
   "metadata": {},
   "outputs": [
    {
     "name": "stdout",
     "output_type": "stream",
     "text": [
      "模型准确率：0.65\n"
     ]
    }
   ],
   "source": [
    "from sklearn.model_selection import train_test_split\n",
    "from sklearn.preprocessing import StandardScaler\n",
    "mlpr=MLPRegressor(random_state=18, hidden_layer_sizes=(100,100),alpha=0.001)\n",
    "X_train, X_test, y_train, y_test=train_test_split(X,y,random_state=62)\n",
    "scaler = StandardScaler()\n",
    "scaler.fit(X_train)\n",
    "X_train_scaled = scaler.transform(X_train)\n",
    "X_test_scaled = scaler.transform(X_test)\n",
    "mlpr.fit(X_train_scaled, y_train)\n",
    "print('模型准确率：{:.2f}'.format(mlpr.score(X_test_scaled,y_test)))"
   ]
  },
  {
   "cell_type": "code",
   "execution_count": 34,
   "metadata": {},
   "outputs": [
    {
     "name": "stdout",
     "output_type": "stream",
     "text": [
      "29       深大通\n",
      "216     天夏智慧\n",
      "350     国风塑业\n",
      "499     国光电器\n",
      "663     南洋股份\n",
      "767     久立特材\n",
      "801     杰瑞股份\n",
      "948     鼎龙文化\n",
      "1381    瑞达期货\n",
      "1386    广电计量\n",
      "1481     易联众\n",
      "1482    智云股份\n",
      "1502    东方日升\n",
      "1723    麦克奥迪\n",
      "1778     京天利\n",
      "1873    盛天网络\n",
      "1922    联得装备\n",
      "2017    透景生命\n",
      "2027    正海生物\n",
      "2161    钢研纳克\n",
      "2162    左江科技\n",
      "2164    矩子科技\n",
      "2165    N指南针\n",
      "2717    航天通信\n",
      "2764    鲁北化工\n",
      "2863    界龙实业\n",
      "3224    南华期货\n",
      "3241    华培动力\n",
      "3384    八方股份\n",
      "3575    永悦科技\n",
      "3678     N金山\n",
      "Name: 名称, dtype: object\n"
     ]
    }
   ],
   "source": [
    "# 涨幅大于10的股票\n",
    "wanted = stock.loc[:,'名称']\n",
    "print(wanted[y>=10])"
   ]
  },
  {
   "cell_type": "code",
   "execution_count": 35,
   "metadata": {},
   "outputs": [
    {
     "name": "stdout",
     "output_type": "stream",
     "text": [
      "经过缩放的特征形态：(2774, 22)\n",
      "特征选择后的特征形态:(2774, 11)\n"
     ]
    }
   ],
   "source": [
    "from sklearn.feature_selection import SelectPercentile\n",
    "select = SelectPercentile(percentile=50)\n",
    "select.fit(X_train_scaled, y_train)\n",
    "X_train_selected = select.transform(X_train_scaled)\n",
    "print('经过缩放的特征形态：{}'.format(X_train_scaled.shape))\n",
    "print('特征选择后的特征形态:{}'.format(X_train_selected.shape))"
   ]
  },
  {
   "cell_type": "code",
   "execution_count": 38,
   "metadata": {},
   "outputs": [
    {
     "name": "stdout",
     "output_type": "stream",
     "text": [
      "[False  True False False  True  True  True False  True False False  True\n",
      "  True False False False  True  True False  True  True False]\n"
     ]
    }
   ],
   "source": [
    "# 查看哪些特征被保留下来\n",
    "mask = select.get_support()\n",
    "print(mask)"
   ]
  },
  {
   "cell_type": "code",
   "execution_count": 39,
   "metadata": {},
   "outputs": [
    {
     "data": {
      "image/png": "[encoded data removed]",
      "text/plain": [
       "<Figure size 1152x144 with 1 Axes>"
      ]
     },
     "metadata": {
      "needs_background": "light"
     },
     "output_type": "display_data"
    }
   ],
   "source": [
    "plt.matshow(mask.reshape(1,-1),cmap=plt.cm.cool)\n",
    "plt.xlabel(\"Features Selected\")\n",
    "plt.show()"
   ]
  },
  {
   "cell_type": "code",
   "execution_count": 40,
   "metadata": {},
   "outputs": [
    {
     "name": "stdout",
     "output_type": "stream",
     "text": [
      "特征选择后模型得分：0.97\n"
     ]
    }
   ],
   "source": [
    "X_test_selected = select.transform(X_test_scaled)\n",
    "mlpr_sp=MLPRegressor(random_state=18, hidden_layer_sizes=(100,100),\n",
    "                      alpha=0.001)\n",
    "mlpr_sp.fit(X_train_selected, y_train)\n",
    "print('特征选择后模型得分：{:.2f}'.format(mlpr_sp.score(X_test_selected, \n",
    "                                              y_test)))"
   ]
  },
  {
   "cell_type": "markdown",
   "metadata": {},
   "source": [
    "### 基于模型的特征选择"
   ]
  },
  {
   "cell_type": "code",
   "execution_count": 41,
   "metadata": {},
   "outputs": [
    {
     "name": "stdout",
     "output_type": "stream",
     "text": [
      "基于随机森林模型进行特征后的数据形态：(2774, 11)\n"
     ]
    }
   ],
   "source": [
    "from sklearn.feature_selection import SelectFromModel\n",
    "from sklearn.ensemble import RandomForestRegressor\n",
    "sfm = SelectFromModel(RandomForestRegressor(n_estimators=100, \n",
    "                                            random_state=18),\n",
    "                     threshold='median')\n",
    "sfm.fit(X_train_scaled, y_train)\n",
    "X_train_sfm = sfm.transform(X_train_scaled)\n",
    "print('基于随机森林模型进行特征后的数据形态：{}'.format(X_train_sfm.shape))"
   ]
  },
  {
   "cell_type": "code",
   "execution_count": 43,
   "metadata": {},
   "outputs": [
    {
     "name": "stdout",
     "output_type": "stream",
     "text": [
      "[False  True False False  True False  True  True False  True  True  True\n",
      "  True False False False  True  True  True False False False]\n"
     ]
    }
   ],
   "source": [
    "mask_sfm = sfm.get_support()\n",
    "print(mask_sfm)"
   ]
  },
  {
   "cell_type": "code",
   "execution_count": 44,
   "metadata": {},
   "outputs": [
    {
     "data": {
      "image/png": "[encoded data removed]",
      "text/plain": [
       "<Figure size 1152x144 with 1 Axes>"
      ]
     },
     "metadata": {
      "needs_background": "light"
     },
     "output_type": "display_data"
    }
   ],
   "source": [
    "plt.matshow(mask_sfm.reshape(1,-1),cmap=plt.cm.cool)\n",
    "plt.xlabel('Features Selected')\n",
    "plt.show()"
   ]
  },
  {
   "cell_type": "code",
   "execution_count": 45,
   "metadata": {},
   "outputs": [
    {
     "name": "stdout",
     "output_type": "stream",
     "text": [
      "随机森林进行特征选择后的模型得分：0.84\n"
     ]
    }
   ],
   "source": [
    "X_test_sfm = sfm.transform(X_test_scaled)\n",
    "mlpr_sfm=MLPRegressor(random_state=18, hidden_layer_sizes=(100,100),\n",
    "                      alpha=0.001)\n",
    "mlpr_sfm.fit(X_train_sfm, y_train)\n",
    "print('随机森林进行特征选择后的模型得分：{:.2f}'.format(\n",
    "    mlpr_sfm.score(X_test_sfm, y_test)))"
   ]
  },
  {
   "cell_type": "markdown",
   "metadata": {},
   "source": [
    "### 迭代式特征选择"
   ]
  },
  {
   "cell_type": "code",
   "execution_count": 46,
   "metadata": {},
   "outputs": [
    {
     "name": "stdout",
     "output_type": "stream",
     "text": [
      "[False  True False False  True False  True  True False  True  True  True\n",
      "  True  True False False  True  True  True False False False]\n"
     ]
    }
   ],
   "source": [
    "from sklearn.feature_selection import RFE\n",
    "rfe = RFE(RandomForestRegressor(n_estimators=100,\n",
    "                                 random_state=18),\n",
    "         n_features_to_select=12)\n",
    "rfe.fit(X_train_scaled, y_train)\n",
    "mask = rfe.get_support()\n",
    "print(mask)"
   ]
  },
  {
   "cell_type": "code",
   "execution_count": 47,
   "metadata": {},
   "outputs": [
    {
     "data": {
      "image/png": "[encoded data removed]",
      "text/plain": [
       "<Figure size 1152x144 with 1 Axes>"
      ]
     },
     "metadata": {
      "needs_background": "light"
     },
     "output_type": "display_data"
    }
   ],
   "source": [
    "plt.matshow(mask.reshape(1,-1), cmap=plt.cm.cool)\n",
    "plt.xlabel('Features Selected')\n",
    "plt.show()"
   ]
  },
  {
   "cell_type": "code",
   "execution_count": 48,
   "metadata": {},
   "outputs": [
    {
     "name": "stdout",
     "output_type": "stream",
     "text": [
      "RFE选择特征后的模型得分：0.87\n"
     ]
    }
   ],
   "source": [
    "X_train_rfe = rfe.transform(X_train_scaled)\n",
    "X_test_rfe = rfe.transform(X_test_scaled)\n",
    "mlpr_rfe = MLPRegressor(random_state=18, hidden_layer_sizes=(100,100),\n",
    "                      alpha=0.001)\n",
    "mlpr_rfe.fit(X_train_rfe, y_train)\n",
    "print(\"RFE选择特征后的模型得分：{:.2f}\".format(mlpr_rfe.score(X_test_rfe,\n",
    "                                                  y_test)))"
   ]
  },
  {
   "cell_type": "code",
   "execution_count": 36,
   "metadata": {},
   "outputs": [
    {
     "name": "stdout",
     "output_type": "stream",
     "text": [
      "0.20\n"
     ]
    }
   ],
   "source": [
    "print('{:.2f}'.format(rfe.score(X_test_scaled, y_test)))"
   ]
  }
 ],
 "metadata": {
  "kernelspec": {
   "display_name": "Python 3",
   "language": "python",
   "name": "python3"
  },
  "language_info": {
   "codemirror_mode": {
    "name": "ipython",
    "version": 3
   },
   "file_extension": ".py",
   "mimetype": "text/x-python",
   "name": "python",
   "nbconvert_exporter": "python",
   "pygments_lexer": "ipython3",
   "version": "3.9.7"
  },
  "toc": {
   "base_numbering": 1,
   "nav_menu": {},
   "number_sections": true,
   "sideBar": true,
   "skip_h1_title": true,
   "title_cell": "Table of Contents",
   "title_sidebar": "Contents",
   "toc_cell": false,
   "toc_position": {},
   "toc_section_display": true,
   "toc_window_display": false
  }
 },
 "nbformat": 4,
 "nbformat_minor": 2
}
