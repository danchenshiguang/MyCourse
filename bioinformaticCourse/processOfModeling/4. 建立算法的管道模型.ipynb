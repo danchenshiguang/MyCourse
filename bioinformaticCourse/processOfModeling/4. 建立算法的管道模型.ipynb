{
 "cells": [
  {
   "cell_type": "markdown",
   "metadata": {},
   "source": [
    "# 建立算法的管道模型\n",
    "## 管道模型的概念和用法\n",
    "### 管道模型的基本概念"
   ]
  },
  {
   "cell_type": "code",
   "execution_count": 1,
   "metadata": {},
   "outputs": [
    {
     "name": "stdout",
     "output_type": "stream",
     "text": [
      "(150, 2) (50, 2)\n"
     ]
    }
   ],
   "source": [
    "from sklearn.datasets import make_blobs\n",
    "from sklearn.model_selection import train_test_split\n",
    "from sklearn.preprocessing import StandardScaler\n",
    "from sklearn.neural_network import MLPClassifier\n",
    "X, y = make_blobs(n_samples=200, centers=2, cluster_std=5)\n",
    "X_train, X_test, y_train, y_test=train_test_split(X,y,random_state=38)\n",
    "scaler = StandardScaler().fit(X_train)\n",
    "X_train_scaled = scaler.transform(X_train)\n",
    "X_test_scaled = scaler.transform(X_test)\n",
    "print(X_train_scaled.shape, X_test_scaled.shape)"
   ]
  },
  {
   "cell_type": "code",
   "execution_count": 2,
   "metadata": {},
   "outputs": [
    {
     "data": {
      "image/png": "[encoded data removed]",
      "text/plain": [
       "<Figure size 432x288 with 1 Axes>"
      ]
     },
     "metadata": {
      "needs_background": "light"
     },
     "output_type": "display_data"
    }
   ],
   "source": [
    "%matplotlib inline\n",
    "import matplotlib.pyplot as plt\n",
    "plt.scatter(X_train[:,0],X_train[:,1])\n",
    "plt.scatter(X_train_scaled[:,0],X_train_scaled[:,1], marker='*', edgecolors='k')\n",
    "plt.show()"
   ]
  },
  {
   "cell_type": "code",
   "execution_count": 2,
   "metadata": {},
   "outputs": [
    {
     "name": "stderr",
     "output_type": "stream",
     "text": [
      "/Users/yy/miniforge3/lib/python3.9/site-packages/sklearn/neural_network/_multilayer_perceptron.py:692: ConvergenceWarning: Stochastic Optimizer: Maximum iterations (1600) reached and the optimization hasn't converged yet.\n",
      "  warnings.warn(\n",
      "/Users/yy/miniforge3/lib/python3.9/site-packages/sklearn/neural_network/_multilayer_perceptron.py:692: ConvergenceWarning: Stochastic Optimizer: Maximum iterations (1600) reached and the optimization hasn't converged yet.\n",
      "  warnings.warn(\n"
     ]
    },
    {
     "name": "stdout",
     "output_type": "stream",
     "text": [
      "模型最佳得分：0.65\n",
      "模型最佳参数：{'alpha': 0.1, 'hidden_layer_sizes': (50,)}\n"
     ]
    }
   ],
   "source": [
    "from sklearn.model_selection import GridSearchCV\n",
    "params = {'hidden_layer_sizes':[(50,),(100,),(100,100)],\n",
    "         'alpha':[0.0001, 0.001, 0.01, 0.1]}\n",
    "grid = GridSearchCV(MLPClassifier(max_iter=1600,\n",
    "                                  random_state=38), param_grid=params, cv=3)\n",
    "grid.fit(X_train_scaled, y_train)\n",
    "print('模型最佳得分：{:.2f}'.format(grid.best_score_))\n",
    "print('模型最佳参数：{}'.format(grid.best_params_))"
   ]
  },
  {
   "cell_type": "code",
   "execution_count": 3,
   "metadata": {},
   "outputs": [
    {
     "name": "stdout",
     "output_type": "stream",
     "text": [
      "测试集得分：0.7\n"
     ]
    }
   ],
   "source": [
    "print('测试集得分：{}'.format(grid.score(X_test_scaled, y_test)))"
   ]
  },
  {
   "cell_type": "markdown",
   "metadata": {},
   "source": [
    "在交叉验证中，我们将以经用StandardScaler过的数据又拆分成了训练集和数据集，这样的得分是不准确的。然而网格搜索要做12次，又要用for循环遍历么？"
   ]
  },
  {
   "cell_type": "code",
   "execution_count": 4,
   "metadata": {},
   "outputs": [
    {
     "name": "stdout",
     "output_type": "stream",
     "text": [
      "使用管道模型的MLP模型评分：0.48\n"
     ]
    }
   ],
   "source": [
    "from sklearn.pipeline import Pipeline\n",
    "pipeline = Pipeline([('scaler',StandardScaler()),\n",
    "                     ('mlp',MLPClassifier(max_iter=1600,random_state=38))])\n",
    "pipeline.fit(X_train, y_train)\n",
    "print('使用管道模型的MLP模型评分：{:.2f}'.format(pipeline.score(X_test,y_test)))"
   ]
  },
  {
   "cell_type": "markdown",
   "metadata": {},
   "source": [
    "### 使用管道模型进行网格搜索"
   ]
  },
  {
   "cell_type": "code",
   "execution_count": 5,
   "metadata": {},
   "outputs": [
    {
     "name": "stdout",
     "output_type": "stream",
     "text": [
      "交叉验证最高分:0.65\n",
      "模型最优参数：{'mlp__alpha': 0.01, 'mlp__hidden_layer_sizes': (100,)}\n",
      "测试集得分：0.48\n"
     ]
    }
   ],
   "source": [
    "params = {'mlp__hidden_layer_sizes':[(50,),(100,),(100,100)],\n",
    "         'mlp__alpha':[0.0001, 0.001, 0.01, 0.1]}\n",
    "grid = GridSearchCV(pipeline, param_grid=params, cv=3)\n",
    "grid.fit(X_train, y_train)\n",
    "print('交叉验证最高分:{:.2f}'.format(grid.best_score_))\n",
    "print('模型最优参数：{}'.format(grid.best_params_))\n",
    "print('测试集得分：{}'.format(grid.score(X_test,y_test)))"
   ]
  },
  {
   "cell_type": "code",
   "execution_count": 7,
   "metadata": {},
   "outputs": [
    {
     "name": "stdout",
     "output_type": "stream",
     "text": [
      "[('scaler', StandardScaler()), ('mlp', MLPClassifier(max_iter=1600, random_state=38))]\n"
     ]
    }
   ],
   "source": [
    "print(pipeline.steps)"
   ]
  },
  {
   "cell_type": "markdown",
   "metadata": {},
   "source": [
    "## 使用管道模型对股票涨幅进行回归分析\n",
    "### 数据集初始化"
   ]
  },
  {
   "cell_type": "code",
   "execution_count": 6,
   "metadata": {},
   "outputs": [
    {
     "name": "stdout",
     "output_type": "stream",
     "text": [
      "(3699, 22) (3699,)\n"
     ]
    }
   ],
   "source": [
    "import pandas as pd\n",
    "stocks = pd.read_csv('2019.csv', \n",
    "                     encoding = 'gbk')\n",
    "X = stocks.loc[:,'现价':'流通股(亿)'].values\n",
    "y = stocks['涨幅%']\n",
    "print (X.shape, y.shape)"
   ]
  },
  {
   "cell_type": "code",
   "execution_count": 7,
   "metadata": {},
   "outputs": [
    {
     "name": "stdout",
     "output_type": "stream",
     "text": [
      "模型平均分：-114792272.72\n"
     ]
    }
   ],
   "source": [
    "from sklearn.model_selection import cross_val_score\n",
    "from sklearn.neural_network import MLPRegressor\n",
    "scores = cross_val_score(MLPRegressor(random_state=28),X,y,cv=3)\n",
    "print ('模型平均分：{:.2f}'.format(scores.mean()))"
   ]
  },
  {
   "cell_type": "markdown",
   "metadata": {},
   "source": [
    "## 建立包含预处理和MLP模型的管道模型"
   ]
  },
  {
   "cell_type": "code",
   "execution_count": 11,
   "metadata": {},
   "outputs": [
    {
     "name": "stdout",
     "output_type": "stream",
     "text": [
      "[('scaler', StandardScaler()), ('mlp', MLPRegressor(random_state=18))]\n",
      "\n",
      " [('standardscaler', StandardScaler()), ('mlpregressor', MLPRegressor(random_state=18))]\n"
     ]
    }
   ],
   "source": [
    "from sklearn.pipeline import make_pipeline\n",
    "pipeline = Pipeline([('scaler',StandardScaler()), \n",
    "                     ('mlp',MLPRegressor(random_state=18))])\n",
    "# 使用make_pipeline无需指定每步名称，更加简洁\n",
    "pipe = make_pipeline(StandardScaler(), MLPRegressor(random_state=18))\n",
    "print(pipeline.steps)\n",
    "print('\\n',pipe.steps)"
   ]
  },
  {
   "cell_type": "code",
   "execution_count": 12,
   "metadata": {},
   "outputs": [
    {
     "name": "stderr",
     "output_type": "stream",
     "text": [
      "/Users/yy/miniforge3/lib/python3.9/site-packages/sklearn/neural_network/_multilayer_perceptron.py:692: ConvergenceWarning: Stochastic Optimizer: Maximum iterations (200) reached and the optimization hasn't converged yet.\n",
      "  warnings.warn(\n"
     ]
    },
    {
     "name": "stdout",
     "output_type": "stream",
     "text": [
      "模型平均分：0.29\n"
     ]
    },
    {
     "name": "stderr",
     "output_type": "stream",
     "text": [
      "/Users/yy/miniforge3/lib/python3.9/site-packages/sklearn/neural_network/_multilayer_perceptron.py:692: ConvergenceWarning: Stochastic Optimizer: Maximum iterations (200) reached and the optimization hasn't converged yet.\n",
      "  warnings.warn(\n"
     ]
    }
   ],
   "source": [
    "scores = cross_val_score(pipe,X,y,cv=3)\n",
    "print('模型平均分：{:.2f}'.format(scores.mean()))"
   ]
  },
  {
   "cell_type": "markdown",
   "metadata": {},
   "source": [
    "### 向管道模型添加特征选择"
   ]
  },
  {
   "cell_type": "code",
   "execution_count": 13,
   "metadata": {},
   "outputs": [
    {
     "data": {
      "text/plain": [
       "[('standardscaler', StandardScaler()),\n",
       " ('selectfrommodel',\n",
       "  SelectFromModel(estimator=RandomForestRegressor(random_state=18))),\n",
       " ('mlpregressor', MLPRegressor(random_state=18))]"
      ]
     },
     "execution_count": 13,
     "metadata": {},
     "output_type": "execute_result"
    }
   ],
   "source": [
    "from sklearn.feature_selection import SelectFromModel\n",
    "from sklearn.ensemble import RandomForestRegressor\n",
    "pipe = make_pipeline(StandardScaler(),\n",
    "                 SelectFromModel(RandomForestRegressor(random_state=18)),\n",
    "                MLPRegressor(random_state=18))\n",
    "pipe.steps"
   ]
  },
  {
   "cell_type": "code",
   "execution_count": 14,
   "metadata": {},
   "outputs": [
    {
     "name": "stderr",
     "output_type": "stream",
     "text": [
      "/Users/yy/miniforge3/lib/python3.9/site-packages/sklearn/neural_network/_multilayer_perceptron.py:692: ConvergenceWarning: Stochastic Optimizer: Maximum iterations (200) reached and the optimization hasn't converged yet.\n",
      "  warnings.warn(\n",
      "/Users/yy/miniforge3/lib/python3.9/site-packages/sklearn/neural_network/_multilayer_perceptron.py:692: ConvergenceWarning: Stochastic Optimizer: Maximum iterations (200) reached and the optimization hasn't converged yet.\n",
      "  warnings.warn(\n"
     ]
    },
    {
     "name": "stdout",
     "output_type": "stream",
     "text": [
      "管道模型平均分：0.60\n"
     ]
    },
    {
     "name": "stderr",
     "output_type": "stream",
     "text": [
      "/Users/yy/miniforge3/lib/python3.9/site-packages/sklearn/neural_network/_multilayer_perceptron.py:692: ConvergenceWarning: Stochastic Optimizer: Maximum iterations (200) reached and the optimization hasn't converged yet.\n",
      "  warnings.warn(\n"
     ]
    }
   ],
   "source": [
    "scores = cross_val_score(pipe, X,y, cv=3)\n",
    "print('管道模型平均分：{:.2f}'.format(scores.mean()))"
   ]
  },
  {
   "cell_type": "code",
   "execution_count": 15,
   "metadata": {},
   "outputs": [
    {
     "name": "stdout",
     "output_type": "stream",
     "text": [
      "[False  True False False False False  True False False False False False\n",
      "  True False False False False False  True  True  True False]\n"
     ]
    },
    {
     "name": "stderr",
     "output_type": "stream",
     "text": [
      "/Users/yy/miniforge3/lib/python3.9/site-packages/sklearn/neural_network/_multilayer_perceptron.py:692: ConvergenceWarning: Stochastic Optimizer: Maximum iterations (200) reached and the optimization hasn't converged yet.\n",
      "  warnings.warn(\n"
     ]
    }
   ],
   "source": [
    "pipe.fit(X,y)\n",
    "mask = pipe.named_steps['selectfrommodel'].get_support()\n",
    "print(mask)"
   ]
  },
  {
   "cell_type": "markdown",
   "metadata": {},
   "source": [
    "## 使用管道模型进行模型选择和参数调优\n",
    "### 使用管道模型进行模型选择"
   ]
  },
  {
   "cell_type": "code",
   "execution_count": 16,
   "metadata": {},
   "outputs": [
    {
     "name": "stderr",
     "output_type": "stream",
     "text": [
      "/Users/yy/miniforge3/lib/python3.9/site-packages/sklearn/neural_network/_multilayer_perceptron.py:692: ConvergenceWarning: Stochastic Optimizer: Maximum iterations (200) reached and the optimization hasn't converged yet.\n",
      "  warnings.warn(\n",
      "/Users/yy/miniforge3/lib/python3.9/site-packages/sklearn/neural_network/_multilayer_perceptron.py:692: ConvergenceWarning: Stochastic Optimizer: Maximum iterations (200) reached and the optimization hasn't converged yet.\n",
      "  warnings.warn(\n"
     ]
    },
    {
     "name": "stdout",
     "output_type": "stream",
     "text": [
      "最佳模型是：\n",
      "{'reg': RandomForestRegressor(random_state=18), 'scaler': None}\n",
      "\n",
      "模型最佳得分是:0.66\n"
     ]
    }
   ],
   "source": [
    "params = [{'reg':[MLPRegressor(random_state=18)],\n",
    "           'scaler':[StandardScaler(),None]},\n",
    "         {'reg':[RandomForestRegressor(random_state=18)],\n",
    "         'scaler':[None]}]\n",
    "#下面对pipeline进行实例化\n",
    "pipe = Pipeline([('scaler',StandardScaler()),('reg',MLPRegressor())])\n",
    "grid = GridSearchCV(pipe, params, cv=3)\n",
    "grid.fit(X,y)\n",
    "\n",
    "print('最佳模型是：\\n{}'.format(grid.best_params_))\n",
    "print('\\n模型最佳得分是:{:.2f}'.format(grid.best_score_))"
   ]
  },
  {
   "cell_type": "markdown",
   "metadata": {},
   "source": [
    "### 使用管道模型寻找更优参数"
   ]
  },
  {
   "cell_type": "code",
   "execution_count": 17,
   "metadata": {},
   "outputs": [
    {
     "name": "stderr",
     "output_type": "stream",
     "text": [
      "/Users/yy/miniforge3/lib/python3.9/site-packages/sklearn/neural_network/_multilayer_perceptron.py:692: ConvergenceWarning: Stochastic Optimizer: Maximum iterations (200) reached and the optimization hasn't converged yet.\n",
      "  warnings.warn(\n",
      "/Users/yy/miniforge3/lib/python3.9/site-packages/sklearn/neural_network/_multilayer_perceptron.py:692: ConvergenceWarning: Stochastic Optimizer: Maximum iterations (200) reached and the optimization hasn't converged yet.\n",
      "  warnings.warn(\n",
      "/Users/yy/miniforge3/lib/python3.9/site-packages/sklearn/neural_network/_multilayer_perceptron.py:692: ConvergenceWarning: Stochastic Optimizer: Maximum iterations (200) reached and the optimization hasn't converged yet.\n",
      "  warnings.warn(\n",
      "/Users/yy/miniforge3/lib/python3.9/site-packages/sklearn/neural_network/_multilayer_perceptron.py:692: ConvergenceWarning: Stochastic Optimizer: Maximum iterations (200) reached and the optimization hasn't converged yet.\n",
      "  warnings.warn(\n",
      "/Users/yy/miniforge3/lib/python3.9/site-packages/sklearn/neural_network/_multilayer_perceptron.py:692: ConvergenceWarning: Stochastic Optimizer: Maximum iterations (200) reached and the optimization hasn't converged yet.\n",
      "  warnings.warn(\n",
      "/Users/yy/miniforge3/lib/python3.9/site-packages/sklearn/neural_network/_multilayer_perceptron.py:692: ConvergenceWarning: Stochastic Optimizer: Maximum iterations (200) reached and the optimization hasn't converged yet.\n",
      "  warnings.warn(\n"
     ]
    },
    {
     "name": "stdout",
     "output_type": "stream",
     "text": [
      "最佳模型是：\n",
      "{'reg': RandomForestRegressor(n_estimators=10, random_state=18), 'reg__n_estimators': 10, 'scaler': None}\n",
      "\n",
      "模型最佳得分是:0.68\n"
     ]
    }
   ],
   "source": [
    "params = [{'reg':[MLPRegressor(random_state=18)],\n",
    "          'scaler':[StandardScaler(),None],\n",
    "          'reg__hidden_layer_sizes':[(50,),(100,),(100,100)]},\n",
    "         {'reg':[RandomForestRegressor(random_state=18)],\n",
    "         'scaler':[None],\n",
    "         'reg__n_estimators':[10,50,100]}]\n",
    "pipe = Pipeline([('scaler',StandardScaler()),('reg',MLPRegressor())])\n",
    "grid = GridSearchCV(pipe, params, cv=3)\n",
    "grid.fit(X,y)\n",
    "\n",
    "print('最佳模型是：\\n{}'.format(grid.best_params_))\n",
    "print('\\n模型最佳得分是:{:.2f}'.format(grid.best_score_))"
   ]
  },
  {
   "cell_type": "code",
   "execution_count": 18,
   "metadata": {},
   "outputs": [
    {
     "name": "stdout",
     "output_type": "stream",
     "text": [
      "最佳模型是：\n",
      "{'reg': RandomForestRegressor(n_estimators=1000, random_state=8), 'reg__n_estimators': 1000, 'scaler': None}\n",
      "\n",
      "模型最佳得分是:0.66\n"
     ]
    }
   ],
   "source": [
    "params = [{'reg':[MLPRegressor(random_state=18, max_iter=1000)],\n",
    "          'scaler':[StandardScaler(),None],\n",
    "          'reg__hidden_layer_sizes':[(50,),(100,),(100,100)]},\n",
    "         {'reg':[RandomForestRegressor(random_state=8)],\n",
    "         'scaler':[None],\n",
    "         'reg__n_estimators':[100,500,1000]}]\n",
    "pipe = Pipeline([('scaler',StandardScaler()),('reg',MLPRegressor())])\n",
    "grid = GridSearchCV(pipe, params, cv=3)\n",
    "grid.fit(X,y)\n",
    "\n",
    "print('最佳模型是：\\n{}'.format(grid.best_params_))\n",
    "print('\\n模型最佳得分是:{:.2f}'.format(grid.best_score_))"
   ]
  },
  {
   "cell_type": "code",
   "execution_count": null,
   "metadata": {},
   "outputs": [],
   "source": []
  }
 ],
 "metadata": {
  "kernelspec": {
   "display_name": "Python 3",
   "language": "python",
   "name": "python3"
  },
  "language_info": {
   "codemirror_mode": {
    "name": "ipython",
    "version": 3
   },
   "file_extension": ".py",
   "mimetype": "text/x-python",
   "name": "python",
   "nbconvert_exporter": "python",
   "pygments_lexer": "ipython3",
   "version": "3.9.7"
  },
  "toc": {
   "base_numbering": 1,
   "nav_menu": {},
   "number_sections": true,
   "sideBar": true,
   "skip_h1_title": true,
   "title_cell": "Table of Contents",
   "title_sidebar": "Contents",
   "toc_cell": false,
   "toc_position": {},
   "toc_section_display": true,
   "toc_window_display": false
  }
 },
 "nbformat": 4,
 "nbformat_minor": 2
}
