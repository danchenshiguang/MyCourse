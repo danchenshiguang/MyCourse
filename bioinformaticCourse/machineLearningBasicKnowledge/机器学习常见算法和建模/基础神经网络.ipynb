{
 "cells": [
  {
   "cell_type": "code",
   "execution_count": null,
   "metadata": {
    "collapsed": true
   },
   "outputs": [],
   "source": []
  },
  {
   "cell_type": "code",
   "execution_count": null,
   "outputs": [],
   "source": [],
   "metadata": {
    "collapsed": false,
    "pycharm": {
     "name": "#%%\n"
    }
   }
  },
  {
   "cell_type": "markdown",
   "source": [
    "# 最简单的神经网络原理\n"
   ],
   "metadata": {
    "collapsed": false
   }
  },
  {
   "cell_type": "code",
   "execution_count": 1,
   "outputs": [
    {
     "name": "stdout",
     "output_type": "stream",
     "text": [
      "10 -26\n",
      "4.8 -10.399999999999999\n",
      "2.72 -4.16\n",
      "1.8880000000000001 -1.6640000000000006\n",
      "1.5552000000000001 -0.6656000000000004\n",
      "1.42208 -0.2662399999999998\n",
      "1.368832 -0.10649599999999992\n",
      "1.3475328 -0.04259840000000015\n",
      "1.33901312 -0.01703936000000006\n",
      "1.335605248 -0.006815743999999846\n",
      "1.3342420992000001 -0.002726297600000649\n",
      "1.33369683968 -0.0010905190399999043\n",
      "1.333478735872 -0.00043620761599960645\n",
      "1.3333914943488 -0.00017448304640055312\n",
      "1.33335659773952 -6.979321856004361e-05\n",
      "1.333342639095808 -2.7917287424017445e-05\n",
      "1.3333370556383233 -1.1166914969606978e-05\n",
      "1.3333348222553294 -4.466765988198063e-06\n",
      "1.3333339289021318 -1.786706395279225e-06\n",
      "1.3333335715608527 -7.146825584669614e-07\n",
      "1.333333428624341 4.0000007146825585\n"
     ]
    }
   ],
   "source": [
    "# 设置输入值 X 和目标输出值 Y\n",
    "X = 3\n",
    "Y = 4\n",
    "\n",
    "# 初始化神经元的权重\n",
    "syn0 = 10\n",
    "\n",
    "# 迭代 20 次进行训练\n",
    "for iter in range(20):\n",
    "    # 前向传播计算输出\n",
    "    L0 = X\n",
    "    L1 = L0 * syn0\n",
    "\n",
    "    # 计算误差和误差的调整量\n",
    "    L1_error = Y - L1\n",
    "    L1_delta = L1_error / 5\n",
    "\n",
    "    # 输出神经元的权重和误差\n",
    "    print(syn0, L1_error)\n",
    "\n",
    "    # 更新神经元的权重\n",
    "    syn0 += L1_delta\n",
    "\n",
    "# 输出最终权重和最终输出值\n",
    "print(syn0, L1)"
   ],
   "metadata": {
    "collapsed": false,
    "pycharm": {
     "name": "#%%\n"
    }
   }
  },
  {
   "cell_type": "markdown",
   "source": [
    "# 设计了loss函数\n"
   ],
   "metadata": {
    "collapsed": false
   }
  },
  {
   "cell_type": "code",
   "execution_count": null,
   "outputs": [],
   "source": [
    "# 定义误差函数 loss，它返回常数 0.2\n",
    "def loss():\n",
    "    return 0.2\n",
    "\n",
    "# 设置输入值 X 和目标输出值 Y，以及神经元的初始权重\n",
    "X = 3\n",
    "Y = 4\n",
    "syn0 = 10\n",
    "\n",
    "# 迭代 20 次进行训练\n",
    "for iter in range(20):\n",
    "    # 前向传播计算输出\n",
    "    L0 = X\n",
    "    L1 = L0 * syn0\n",
    "\n",
    "    # 计算误差和误差的调整量\n",
    "    L1_error = Y - L1\n",
    "    L1_delta = L1_error * loss()\n",
    "\n",
    "    # 输出误差的调整量\n",
    "    print(L1_delta)\n",
    "\n",
    "    # 更新神经元的权重\n",
    "    syn0 += L1_delta\n",
    "\n",
    "# 输出最终权重和最终输出值\n",
    "print(syn0, L1)"
   ],
   "metadata": {
    "collapsed": false,
    "pycharm": {
     "name": "#%%\n"
    }
   }
  },
  {
   "cell_type": "markdown",
   "source": [
    "#定义激活函数"
   ],
   "metadata": {
    "collapsed": false
   }
  },
  {
   "cell_type": "code",
   "execution_count": null,
   "outputs": [],
   "source": [
    "# 定义误差函数 loss，它返回常数 0.25\n",
    "def loss(x):\n",
    "    return 0.25\n",
    "\n",
    "# 定义线性函数 lin，它返回输入值本身\n",
    "def lin(x):\n",
    "    return x\n",
    "\n",
    "# 设置输入值 X 和目标输出值 Y\n",
    "X = 3\n",
    "Y = 4\n",
    "\n",
    "# 初始化神经元的权重\n",
    "syn0 = 10\n",
    "\n",
    "# 迭代 20 次进行训练\n",
    "for iter in range(20):\n",
    "    # 前向传播计算输出\n",
    "    L0 = X\n",
    "    L1 = lin(L0 * syn0)\n",
    "\n",
    "    # 计算误差和误差的调整量\n",
    "    L1_error = Y - L1\n",
    "    L1_delta = L1_error * loss(X)\n",
    "\n",
    "    # 输出误差的调整量\n",
    "    print(L1_delta)\n",
    "\n",
    "    # 更新神经元的权重\n",
    "    syn0 += L1_delta\n",
    "\n",
    "# 输出最终权重和最终输出值\n",
    "print(syn0, L1)"
   ],
   "metadata": {
    "collapsed": false,
    "pycharm": {
     "name": "#%%\n"
    }
   }
  }
 ],
 "metadata": {
  "kernelspec": {
   "display_name": "Python 3",
   "language": "python",
   "name": "python3"
  },
  "language_info": {
   "codemirror_mode": {
    "name": "ipython",
    "version": 2
   },
   "file_extension": ".py",
   "mimetype": "text/x-python",
   "name": "python",
   "nbconvert_exporter": "python",
   "pygments_lexer": "ipython2",
   "version": "2.7.6"
  }
 },
 "nbformat": 4,
 "nbformat_minor": 0
}